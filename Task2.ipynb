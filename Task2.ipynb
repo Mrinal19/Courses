{
  "cells": [
    {
      "cell_type": "markdown",
      "metadata": {
        "id": "vzitbT12UlD9"
      },
      "source": [
        "# **Submitted By: Mrinal Bhan (DSAI : 211020428)**"
      ]
    },
    {
      "cell_type": "markdown",
      "metadata": {
        "id": "iUzOlcODUd4S"
      },
      "source": [
        "**Task 1.** To implement a simple feed-forward neural network using keras library. The neural\n",
        "network should have the following specifications:\n",
        "1.   Input Layer: The input layer should match the dimension of your dataset.\n",
        "2.   Hidden Layers: Include at least one hidden layer with a reasonable number of neurons.\n",
        "3.   Output Layer: Design the output layer based on your chosen problem (classification or\n",
        "regression).\n",
        "Train the neural network on a dataset of your choice. You can use publicly available datasets\n",
        "or create a synthetic dataset."
      ]
    },
    {
      "cell_type": "code",
      "execution_count": null,
      "metadata": {
        "id": "PYjIOPIeVrT6"
      },
      "outputs": [],
      "source": [
        "import tensorflow as tf\n",
        "from tensorflow.keras.layers import Flatten, Dense # For miscellaneous functions\n",
        "from tensorflow.keras import utils # For datasets\n",
        "from tensorflow.keras.datasets import mnist # For math functions and array\n",
        "import numpy as np\n",
        "import matplotlib.pyplot as plt"
      ]
    },
    {
      "cell_type": "code",
      "execution_count": null,
      "metadata": {
        "colab": {
          "base_uri": "https://localhost:8080/"
        },
        "id": "u0UajN54Ye5l",
        "outputId": "cd17294b-4d57-409f-b799-11bac22d59a9"
      },
      "outputs": [
        {
          "name": "stdout",
          "output_type": "stream",
          "text": [
            "Downloading data from https://storage.googleapis.com/tensorflow/tf-keras-datasets/mnist.npz\n",
            "11490434/11490434 [==============================] - 0s 0us/step\n",
            "Training data shape:  (60000, 28, 28)\n",
            "Training labels shape:  (60000,)\n",
            "Test data shape:  (10000, 28, 28)\n",
            "Test labels shape:  (10000,)\n"
          ]
        }
      ],
      "source": [
        "#Loading the MNIST dataset\n",
        "(train_X, train_Y), (test_X, test_Y) = mnist.load_data()\n",
        "train_Y_categorical = utils.to_categorical(train_Y)\n",
        "test_Y_categorical = utils.to_categorical(test_Y)\n",
        "\n",
        "print(\"Training data shape: \", train_X.shape)\n",
        "print(\"Training labels shape: \", train_Y.shape)\n",
        "print(\"Test data shape: \", test_X.shape)\n",
        "print(\"Test labels shape: \", test_Y.shape)"
      ]
    },
    {
      "cell_type": "code",
      "execution_count": null,
      "metadata": {
        "id": "tb5QLWkiaxym"
      },
      "outputs": [],
      "source": [
        "features = train_X.shape[1]"
      ]
    },
    {
      "cell_type": "code",
      "execution_count": null,
      "metadata": {
        "colab": {
          "base_uri": "https://localhost:8080/"
        },
        "id": "uUvNRvdeYMLM",
        "outputId": "1462f731-60be-42f2-9295-91e0c81a8a93"
      },
      "outputs": [
        {
          "name": "stdout",
          "output_type": "stream",
          "text": [
            "Model: \"sequential_4\"\n",
            "_________________________________________________________________\n",
            " Layer (type)                Output Shape              Param #   \n",
            "=================================================================\n",
            " flatten_5 (Flatten)         (None, 784)               0         \n",
            "                                                                 \n",
            " dense_9 (Dense)             (None, 16)                12560     \n",
            "                                                                 \n",
            " dense_10 (Dense)            (None, 10)                170       \n",
            "                                                                 \n",
            "=================================================================\n",
            "Total params: 12,730\n",
            "Trainable params: 12,730\n",
            "Non-trainable params: 0\n",
            "_________________________________________________________________\n"
          ]
        }
      ],
      "source": [
        "model = tf.keras.Sequential([\n",
        "    tf.keras.layers.Flatten(input_shape=(28, 28)), #Input layer with 28 neurons i.e number of features\n",
        "     tf.keras.layers.Dense(16, activation='relu'),  #Hidden layer with 16 neurons\n",
        "    tf.keras.layers.Dense(10, activation='softmax')\n",
        "])\n",
        "model.summary()"
      ]
    },
    {
      "cell_type": "code",
      "execution_count": null,
      "metadata": {
        "id": "C_saAXwCYXlV"
      },
      "outputs": [],
      "source": [
        "model.compile(optimizer='adam', loss='categorical_crossentropy', metrics=['accuracy'])"
      ]
    },
    {
      "cell_type": "code",
      "execution_count": null,
      "metadata": {
        "colab": {
          "base_uri": "https://localhost:8080/"
        },
        "id": "5-DJdrWnYbdR",
        "outputId": "1a9faeb3-71a4-4a33-e43a-71991382cb25"
      },
      "outputs": [
        {
          "name": "stdout",
          "output_type": "stream",
          "text": [
            "Epoch 1/10\n",
            "1257/1257 [==============================] - 5s 4ms/step - loss: 0.4947 - accuracy: 0.8561 - val_loss: 0.5123 - val_accuracy: 0.8556\n",
            "Epoch 2/10\n",
            "1257/1257 [==============================] - 4s 3ms/step - loss: 0.4495 - accuracy: 0.8739 - val_loss: 0.4651 - val_accuracy: 0.8781\n",
            "Epoch 3/10\n",
            "1257/1257 [==============================] - 5s 4ms/step - loss: 0.4176 - accuracy: 0.8836 - val_loss: 0.4500 - val_accuracy: 0.8787\n",
            "Epoch 4/10\n",
            "1257/1257 [==============================] - 4s 3ms/step - loss: 0.4083 - accuracy: 0.8846 - val_loss: 0.4768 - val_accuracy: 0.8817\n",
            "Epoch 5/10\n",
            "1257/1257 [==============================] - 4s 3ms/step - loss: 0.3940 - accuracy: 0.8903 - val_loss: 0.3976 - val_accuracy: 0.8900\n",
            "Epoch 6/10\n",
            "1257/1257 [==============================] - 8s 6ms/step - loss: 0.3869 - accuracy: 0.8911 - val_loss: 0.4279 - val_accuracy: 0.8837\n",
            "Epoch 7/10\n",
            "1257/1257 [==============================] - 4s 3ms/step - loss: 0.3782 - accuracy: 0.8950 - val_loss: 0.4204 - val_accuracy: 0.8897\n",
            "Epoch 8/10\n",
            "1257/1257 [==============================] - 4s 3ms/step - loss: 0.3754 - accuracy: 0.8962 - val_loss: 0.4369 - val_accuracy: 0.8846\n",
            "Epoch 9/10\n",
            "1257/1257 [==============================] - 5s 4ms/step - loss: 0.3720 - accuracy: 0.8975 - val_loss: 0.4526 - val_accuracy: 0.8826\n",
            "Epoch 10/10\n",
            "1257/1257 [==============================] - 4s 3ms/step - loss: 0.3697 - accuracy: 0.8977 - val_loss: 0.4350 - val_accuracy: 0.8860\n"
          ]
        }
      ],
      "source": [
        "history = model.fit(train_X, train_Y_categorical, epochs=10, validation_split=0.33)"
      ]
    },
    {
      "cell_type": "code",
      "execution_count": null,
      "metadata": {
        "colab": {
          "base_uri": "https://localhost:8080/"
        },
        "id": "3tiNmy1sYlbV",
        "outputId": "159d5534-9bb9-4182-f3ef-885be5a8a4be"
      },
      "outputs": [
        {
          "name": "stdout",
          "output_type": "stream",
          "text": [
            "dict_keys(['loss', 'accuracy', 'val_loss', 'val_accuracy'])\n"
          ]
        }
      ],
      "source": [
        "print(history.history.keys())"
      ]
    },
    {
      "cell_type": "code",
      "execution_count": null,
      "metadata": {
        "colab": {
          "base_uri": "https://localhost:8080/",
          "height": 410
        },
        "id": "oakCq4_yY8BJ",
        "outputId": "efe75e60-8af0-4d1b-8194-86df6136298c"
      },
      "outputs": [
        {
          "data": {
            "image/png": "[encoded data removed]",
            "text/plain": [
              "<Figure size 1500x400 with 2 Axes>"
            ]
          },
          "metadata": {},
          "output_type": "display_data"
        }
      ],
      "source": [
        "fig = plt.figure(figsize=(15,4))\n",
        "\n",
        "fig.add_subplot(121)\n",
        "plt.plot(history.history['accuracy'])\n",
        "plt.plot(history.history['val_accuracy'])\n",
        "plt.legend(['Training accuracy', 'Validation accuracy'])\n",
        "plt.title('Training and validation accuracy')\n",
        "plt.xlabel('Epoch Number')\n",
        "plt.ylabel('Accuracy')\n",
        "\n",
        "fig.add_subplot(122)\n",
        "plt.plot(history.history['loss'])\n",
        "plt.plot(history.history['val_loss'])\n",
        "plt.legend(['Training loss', 'Validation loss'])\n",
        "plt.title('Training and validation loss')\n",
        "plt.xlabel('Epoch Number')\n",
        "plt.ylabel('Loss')\n",
        "plt.show()"
      ]
    },
    {
      "cell_type": "code",
      "execution_count": null,
      "metadata": {
        "colab": {
          "base_uri": "https://localhost:8080/"
        },
        "id": "EG4ipvTBZJiX",
        "outputId": "fd773b25-1ea8-4f46-f1ff-2cf182ae732e"
      },
      "outputs": [
        {
          "name": "stdout",
          "output_type": "stream",
          "text": [
            "1/1 [==============================] - 0s 61ms/step\n",
            "Predict shape:  (1, 10)\n",
            "Prediction for first test image: \n",
            " [3.3607513e-08 1.1154112e-04 2.5045469e-02 6.1610201e-03 7.2616564e-07\n",
            " 6.9169505e-06 4.3071849e-14 9.6867406e-01 1.9640513e-08 3.9236642e-08]\n",
            "Classification of the first test image: digit  7\n"
          ]
        }
      ],
      "source": [
        "predict = model.predict(test_X[:1,:,:])\n",
        "print('Predict shape: ', predict.shape)\n",
        "print('Prediction for first test image: \\n', predict[0])\n",
        "print('Classification of the first test image: digit ', np.argmax(predict[0]))"
      ]
    },
    {
      "cell_type": "code",
      "execution_count": null,
      "metadata": {
        "colab": {
          "base_uri": "https://localhost:8080/"
        },
        "id": "I5T80YVcZBZG",
        "outputId": "71b4c360-137e-4aae-f97e-7cdc56b303a8"
      },
      "outputs": [
        {
          "name": "stdout",
          "output_type": "stream",
          "text": [
            "1875/1875 [==============================] - 4s 2ms/step - loss: 0.3831 - accuracy: 0.8957\n",
            "313/313 [==============================] - 1s 2ms/step - loss: 0.4246 - accuracy: 0.8912\n",
            "Classification accuracy on training set:  0.895716667175293\n",
            "Classification accuracy on test set:  0.8912000060081482\n"
          ]
        }
      ],
      "source": [
        "train_loss, train_acc = model.evaluate(train_X,  train_Y_categorical)\n",
        "test_loss, test_acc = model.evaluate(test_X,  test_Y_categorical)\n",
        "print('Classification accuracy on training set: ', train_acc)\n",
        "print('Classification accuracy on test set: ', test_acc)"
      ]
    },
    {
      "cell_type": "code",
      "execution_count": null,
      "metadata": {
        "colab": {
          "base_uri": "https://localhost:8080/"
        },
        "id": "hSDQhY3nZX_N",
        "outputId": "38d68449-7407-4065-b815-b550f72d8349"
      },
      "outputs": [
        {
          "name": "stdout",
          "output_type": "stream",
          "text": [
            "313/313 [==============================] - 1s 2ms/step\n",
            "Confusion matrix of the test set:\n",
            " tf.Tensor(\n",
            "[[ 953    0    2    0    2    1    9    5    8    0]\n",
            " [   0 1098    2    6    1    2    1    5   20    0]\n",
            " [  10    0  938    4    7    2   16    7   45    3]\n",
            " [   1    0   27  899    1   42    4    7   25    4]\n",
            " [   1    1    3    0  929    2   12    2    5   27]\n",
            " [  45    2    5  151   11  599   16    6   53    4]\n",
            " [  28    0    4    0   13    9  885    0   19    0]\n",
            " [   2    5   26   20    9    0    0  906    7   53]\n",
            " [  24    2   11   10   14   23   23   10  845   12]\n",
            " [   4    8    1   22   61    9    0   38    6  860]], shape=(10, 10), dtype=int32)\n"
          ]
        }
      ],
      "source": [
        "test_predict = model.predict(test_X)\n",
        "# Get the classification labels\n",
        "test_predict_labels = np.argmax(test_predict, axis=1)\n",
        "confusion_matrix = tf.math.confusion_matrix(labels=test_Y, predictions=test_predict_labels)\n",
        "print('Confusion matrix of the test set:\\n', confusion_matrix)"
      ]
    },
    {
      "cell_type": "markdown",
      "metadata": {
        "id": "Vh8THOvrcqu3"
      },
      "source": [
        "**Visualizing Hidden Layer Outputs**"
      ]
    },
    {
      "cell_type": "code",
      "execution_count": null,
      "metadata": {
        "id": "B3qACJkfZp9U"
      },
      "outputs": [],
      "source": [
        "flat_layer = model.layers[0]\n",
        "hidden_layer = model.layers[1]\n",
        "output_layer = model.layers[2]"
      ]
    },
    {
      "cell_type": "code",
      "execution_count": null,
      "metadata": {
        "id": "IxlDXE1tcywe"
      },
      "outputs": [],
      "source": [
        "def get_hidden_layer_output(model, X):\n",
        "    # Convert X to a tensor\n",
        "    x = tf.convert_to_tensor(np.reshape(X, (1, 28, 28)),\n",
        "                             dtype=tf.dtypes.float32)# Model layers\n",
        "    flat_layer = model.layers[0]\n",
        "    hidden_layer = model.layers[1]\n",
        "    output_layer = model.layers[2]# Pass x through different layers\n",
        "    flat_tensor = flat_layer(x)\n",
        "    hidden_tensor = hidden_layer(flat_tensor)\n",
        "    output_tensor = output_layer(hidden_tensor)\n",
        "    predicted_digit = np.argmax(output_tensor)\n",
        "    return hidden_tensor, predicted_digit"
      ]
    },
    {
      "cell_type": "code",
      "execution_count": null,
      "metadata": {
        "colab": {
          "base_uri": "https://localhost:8080/",
          "height": 419
        },
        "id": "wTCsEJwac14J",
        "outputId": "fe9b50dd-be66-453d-f446-a0f90c3f2dab"
      },
      "outputs": [
        {
          "data": {
            "image/png": "[encoded data removed]",
            "text/plain": [
              "<Figure size 1800x400 with 8 Axes>"
            ]
          },
          "metadata": {},
          "output_type": "display_data"
        }
      ],
      "source": [
        "total_cols = 4\n",
        "fig, ax = plt.subplots(nrows=2, ncols=total_cols,\n",
        "                      figsize=(18,4),\n",
        "                      subplot_kw=dict(xticks=[], yticks=[]))\n",
        "\n",
        "for j in range(total_cols):\n",
        "    image = test_X[j, :, :]\n",
        "    h, prediction = get_hidden_layer_output(model, image)\n",
        "    ax[0, j].imshow(image)\n",
        "    ax[1, j].imshow(np.reshape(h.numpy(), (4,4)))\n",
        "    ax[0, j].set_title('Digit ' + str(test_Y[j]))\n",
        "    ax[1, j].set_title('Classification ' + str(prediction))\n",
        "plt.title('MNIST Digits and Their Hidden Layer Representation', y=-0.4, x=-4)\n",
        "plt.show()"
      ]
    },
    {
      "cell_type": "markdown",
      "metadata": {
        "id": "iEkFYH19eUYQ"
      },
      "source": [
        "**Task 2:** Implement dropout regularization within your previously created feed-forward NN. Experiment with different dropout rates and observe the effect on training and\n",
        "validation accuracy/loss."
      ]
    },
    {
      "cell_type": "code",
      "execution_count": null,
      "metadata": {
        "id": "sYSeM48KfEXF"
      },
      "outputs": [],
      "source": [
        "from tensorflow.keras.layers import Dense, Dropout\n",
        "from tensorflow.keras.optimizers import Adam"
      ]
    },
    {
      "cell_type": "code",
      "execution_count": null,
      "metadata": {
        "id": "6n8-0OXMgBax"
      },
      "outputs": [],
      "source": [
        "#Loading the MNIST dataset\n",
        "(train_X, train_Y), (test_X, test_Y) = mnist.load_data()\n",
        "train_X, test_X = train_X / 255.0, test_X / 255.0"
      ]
    },
    {
      "cell_type": "code",
      "execution_count": null,
      "metadata": {
        "colab": {
          "base_uri": "https://localhost:8080/"
        },
        "id": "MJki6OOHeuVU",
        "outputId": "19f977a7-5703-4266-dcbd-a3ecc4fefa35"
      },
      "outputs": [
        {
          "name": "stdout",
          "output_type": "stream",
          "text": [
            "Training model with dropout rate: 0.0\n",
            "Epoch 1/10\n",
            "1875/1875 - 6s - loss: 0.6348 - accuracy: 0.8100 - val_loss: 55.4354 - val_accuracy: 0.8757 - 6s/epoch - 3ms/step\n",
            "Epoch 2/10\n",
            "1875/1875 - 4s - loss: 0.3104 - accuracy: 0.9110 - val_loss: 54.4254 - val_accuracy: 0.8783 - 4s/epoch - 2ms/step\n",
            "Epoch 3/10\n",
            "1875/1875 - 4s - loss: 0.2802 - accuracy: 0.9195 - val_loss: 52.7971 - val_accuracy: 0.8875 - 4s/epoch - 2ms/step\n",
            "Epoch 4/10\n",
            "1875/1875 - 5s - loss: 0.2645 - accuracy: 0.9235 - val_loss: 55.5008 - val_accuracy: 0.8830 - 5s/epoch - 2ms/step\n",
            "Epoch 5/10\n",
            "1875/1875 - 3s - loss: 0.2545 - accuracy: 0.9261 - val_loss: 55.1760 - val_accuracy: 0.8859 - 3s/epoch - 2ms/step\n",
            "Epoch 6/10\n",
            "1875/1875 - 5s - loss: 0.2466 - accuracy: 0.9282 - val_loss: 59.4062 - val_accuracy: 0.8787 - 5s/epoch - 3ms/step\n",
            "Epoch 7/10\n",
            "1875/1875 - 5s - loss: 0.2399 - accuracy: 0.9311 - val_loss: 53.8096 - val_accuracy: 0.8939 - 5s/epoch - 3ms/step\n",
            "Epoch 8/10\n",
            "1875/1875 - 4s - loss: 0.2359 - accuracy: 0.9322 - val_loss: 60.9512 - val_accuracy: 0.8801 - 4s/epoch - 2ms/step\n",
            "Epoch 9/10\n",
            "1875/1875 - 4s - loss: 0.2315 - accuracy: 0.9324 - val_loss: 62.1712 - val_accuracy: 0.8765 - 4s/epoch - 2ms/step\n",
            "Epoch 10/10\n",
            "1875/1875 - 5s - loss: 0.2272 - accuracy: 0.9341 - val_loss: 69.0469 - val_accuracy: 0.8661 - 5s/epoch - 3ms/step\n",
            "313/313 - 1s - loss: 0.2583 - accuracy: 0.9247 - 573ms/epoch - 2ms/step\n",
            "Test accuracy with dropout rate 0.0: 0.9247000217437744\n",
            "Training model with dropout rate: 0.25\n",
            "Epoch 1/10\n",
            "1875/1875 - 4s - loss: 0.2246 - accuracy: 0.9351 - val_loss: 0.2453 - val_accuracy: 0.9288 - 4s/epoch - 2ms/step\n",
            "Epoch 2/10\n",
            "1875/1875 - 4s - loss: 0.2213 - accuracy: 0.9359 - val_loss: 0.2370 - val_accuracy: 0.9330 - 4s/epoch - 2ms/step\n",
            "Epoch 3/10\n",
            "1875/1875 - 5s - loss: 0.2187 - accuracy: 0.9369 - val_loss: 0.2458 - val_accuracy: 0.9322 - 5s/epoch - 2ms/step\n",
            "Epoch 4/10\n",
            "1875/1875 - 4s - loss: 0.2163 - accuracy: 0.9380 - val_loss: 0.2380 - val_accuracy: 0.9326 - 4s/epoch - 2ms/step\n",
            "Epoch 5/10\n",
            "1875/1875 - 4s - loss: 0.2135 - accuracy: 0.9384 - val_loss: 0.2420 - val_accuracy: 0.9312 - 4s/epoch - 2ms/step\n",
            "Epoch 6/10\n",
            "1875/1875 - 5s - loss: 0.2120 - accuracy: 0.9390 - val_loss: 0.2373 - val_accuracy: 0.9330 - 5s/epoch - 3ms/step\n",
            "Epoch 7/10\n",
            "1875/1875 - 4s - loss: 0.2098 - accuracy: 0.9397 - val_loss: 0.2344 - val_accuracy: 0.9345 - 4s/epoch - 2ms/step\n",
            "Epoch 8/10\n",
            "1875/1875 - 4s - loss: 0.2082 - accuracy: 0.9399 - val_loss: 0.2414 - val_accuracy: 0.9325 - 4s/epoch - 2ms/step\n",
            "Epoch 9/10\n",
            "1875/1875 - 5s - loss: 0.2069 - accuracy: 0.9402 - val_loss: 0.2372 - val_accuracy: 0.9339 - 5s/epoch - 3ms/step\n",
            "Epoch 10/10\n",
            "1875/1875 - 4s - loss: 0.2052 - accuracy: 0.9409 - val_loss: 0.2402 - val_accuracy: 0.9329 - 4s/epoch - 2ms/step\n",
            "313/313 - 0s - loss: 0.2402 - accuracy: 0.9329 - 444ms/epoch - 1ms/step\n",
            "Test accuracy with dropout rate 0.25: 0.9329000115394592\n",
            "Training model with dropout rate: 0.5\n",
            "Epoch 1/10\n",
            "1875/1875 - 5s - loss: 0.2036 - accuracy: 0.9419 - val_loss: 0.2343 - val_accuracy: 0.9338 - 5s/epoch - 3ms/step\n",
            "Epoch 2/10\n",
            "1875/1875 - 4s - loss: 0.2023 - accuracy: 0.9421 - val_loss: 0.2430 - val_accuracy: 0.9323 - 4s/epoch - 2ms/step\n",
            "Epoch 3/10\n",
            "1875/1875 - 4s - loss: 0.2015 - accuracy: 0.9422 - val_loss: 0.2323 - val_accuracy: 0.9346 - 4s/epoch - 2ms/step\n",
            "Epoch 4/10\n",
            "1875/1875 - 4s - loss: 0.1994 - accuracy: 0.9424 - val_loss: 0.2404 - val_accuracy: 0.9316 - 4s/epoch - 2ms/step\n",
            "Epoch 5/10\n",
            "1875/1875 - 4s - loss: 0.1988 - accuracy: 0.9431 - val_loss: 0.2375 - val_accuracy: 0.9335 - 4s/epoch - 2ms/step\n",
            "Epoch 6/10\n",
            "1875/1875 - 4s - loss: 0.1970 - accuracy: 0.9434 - val_loss: 0.2333 - val_accuracy: 0.9317 - 4s/epoch - 2ms/step\n",
            "Epoch 7/10\n",
            "1875/1875 - 4s - loss: 0.1962 - accuracy: 0.9432 - val_loss: 0.2354 - val_accuracy: 0.9344 - 4s/epoch - 2ms/step\n",
            "Epoch 8/10\n",
            "1875/1875 - 5s - loss: 0.1955 - accuracy: 0.9437 - val_loss: 0.2367 - val_accuracy: 0.9355 - 5s/epoch - 3ms/step\n",
            "Epoch 9/10\n",
            "1875/1875 - 4s - loss: 0.1935 - accuracy: 0.9440 - val_loss: 0.2340 - val_accuracy: 0.9328 - 4s/epoch - 2ms/step\n",
            "Epoch 10/10\n",
            "1875/1875 - 4s - loss: 0.1931 - accuracy: 0.9438 - val_loss: 0.2351 - val_accuracy: 0.9340 - 4s/epoch - 2ms/step\n",
            "313/313 - 1s - loss: 0.2351 - accuracy: 0.9340 - 725ms/epoch - 2ms/step\n",
            "Test accuracy with dropout rate 0.5: 0.9340000152587891\n"
          ]
        }
      ],
      "source": [
        "# Define different dropout rates to experiment with\n",
        "dropout_rates = [0.0, 0.25, 0.5]\n",
        "\n",
        "# Loop through different dropout rates and train the models\n",
        "for rate in dropout_rates:\n",
        "    model.compile(optimizer=Adam(learning_rate=0.001),\n",
        "                  loss='sparse_categorical_crossentropy',\n",
        "                  metrics=['accuracy'])\n",
        "\n",
        "    print(f\"Training model with dropout rate: {rate}\")\n",
        "    history = model.fit(train_X, train_Y, epochs=10, validation_data=(test_X, test_Y), verbose=2)\n",
        "\n",
        "    # Evaluate the model\n",
        "    test_loss, test_acc = model.evaluate(test_X, test_Y, verbose=2)\n",
        "    print(f\"Test accuracy with dropout rate {rate}: {test_acc}\")\n"
      ]
    },
    {
      "cell_type": "code",
      "execution_count": null,
      "metadata": {
        "colab": {
          "base_uri": "https://localhost:8080/"
        },
        "id": "1u4N2DUUe_aS",
        "outputId": "7605468a-2fd8-4125-f0fc-1aafe0b51ae3"
      },
      "outputs": [
        {
          "name": "stdout",
          "output_type": "stream",
          "text": [
            "Training model with dropout rate: 0.4\n",
            "Epoch 1/10\n",
            "1875/1875 - 6s - loss: 0.1917 - accuracy: 0.9442 - val_loss: 0.2357 - val_accuracy: 0.9346 - 6s/epoch - 3ms/step\n",
            "Epoch 2/10\n",
            "1875/1875 - 4s - loss: 0.1911 - accuracy: 0.9443 - val_loss: 0.2379 - val_accuracy: 0.9346 - 4s/epoch - 2ms/step\n",
            "Epoch 3/10\n",
            "1875/1875 - 4s - loss: 0.1905 - accuracy: 0.9450 - val_loss: 0.2380 - val_accuracy: 0.9322 - 4s/epoch - 2ms/step\n",
            "Epoch 4/10\n",
            "1875/1875 - 5s - loss: 0.1890 - accuracy: 0.9449 - val_loss: 0.2379 - val_accuracy: 0.9326 - 5s/epoch - 3ms/step\n",
            "Epoch 5/10\n",
            "1875/1875 - 4s - loss: 0.1886 - accuracy: 0.9455 - val_loss: 0.2394 - val_accuracy: 0.9339 - 4s/epoch - 2ms/step\n",
            "Epoch 6/10\n",
            "1875/1875 - 4s - loss: 0.1873 - accuracy: 0.9453 - val_loss: 0.2346 - val_accuracy: 0.9336 - 4s/epoch - 2ms/step\n",
            "Epoch 7/10\n",
            "1875/1875 - 5s - loss: 0.1860 - accuracy: 0.9454 - val_loss: 0.2411 - val_accuracy: 0.9322 - 5s/epoch - 3ms/step\n",
            "Epoch 8/10\n",
            "1875/1875 - 4s - loss: 0.1855 - accuracy: 0.9460 - val_loss: 0.2422 - val_accuracy: 0.9330 - 4s/epoch - 2ms/step\n",
            "Epoch 9/10\n",
            "1875/1875 - 3s - loss: 0.1853 - accuracy: 0.9460 - val_loss: 0.2354 - val_accuracy: 0.9361 - 3s/epoch - 2ms/step\n",
            "Epoch 10/10\n",
            "1875/1875 - 5s - loss: 0.1847 - accuracy: 0.9463 - val_loss: 0.2375 - val_accuracy: 0.9365 - 5s/epoch - 2ms/step\n",
            "313/313 - 0s - loss: 0.2375 - accuracy: 0.9365 - 429ms/epoch - 1ms/step\n",
            "Test accuracy with dropout rate 0.4: 0.9365000128746033\n",
            "Training model with dropout rate: 0.45\n",
            "Epoch 1/10\n",
            "1875/1875 - 5s - loss: 0.1842 - accuracy: 0.9462 - val_loss: 0.2410 - val_accuracy: 0.9349 - 5s/epoch - 2ms/step\n",
            "Epoch 2/10\n",
            "1875/1875 - 5s - loss: 0.1827 - accuracy: 0.9467 - val_loss: 0.2388 - val_accuracy: 0.9346 - 5s/epoch - 2ms/step\n",
            "Epoch 3/10\n",
            "1875/1875 - 4s - loss: 0.1826 - accuracy: 0.9466 - val_loss: 0.2450 - val_accuracy: 0.9341 - 4s/epoch - 2ms/step\n",
            "Epoch 4/10\n",
            "1875/1875 - 4s - loss: 0.1814 - accuracy: 0.9469 - val_loss: 0.2446 - val_accuracy: 0.9351 - 4s/epoch - 2ms/step\n",
            "Epoch 5/10\n",
            "1875/1875 - 5s - loss: 0.1810 - accuracy: 0.9460 - val_loss: 0.2428 - val_accuracy: 0.9358 - 5s/epoch - 3ms/step\n",
            "Epoch 6/10\n",
            "1875/1875 - 4s - loss: 0.1815 - accuracy: 0.9472 - val_loss: 0.2408 - val_accuracy: 0.9360 - 4s/epoch - 2ms/step\n",
            "Epoch 7/10\n",
            "1875/1875 - 4s - loss: 0.1808 - accuracy: 0.9475 - val_loss: 0.2364 - val_accuracy: 0.9372 - 4s/epoch - 2ms/step\n",
            "Epoch 8/10\n",
            "1875/1875 - 5s - loss: 0.1799 - accuracy: 0.9478 - val_loss: 0.2370 - val_accuracy: 0.9373 - 5s/epoch - 3ms/step\n",
            "Epoch 9/10\n",
            "1875/1875 - 4s - loss: 0.1796 - accuracy: 0.9470 - val_loss: 0.2396 - val_accuracy: 0.9362 - 4s/epoch - 2ms/step\n",
            "Epoch 10/10\n",
            "1875/1875 - 4s - loss: 0.1790 - accuracy: 0.9473 - val_loss: 0.2479 - val_accuracy: 0.9324 - 4s/epoch - 2ms/step\n",
            "313/313 - 1s - loss: 0.2479 - accuracy: 0.9324 - 696ms/epoch - 2ms/step\n",
            "Test accuracy with dropout rate 0.45: 0.9323999881744385\n",
            "Training model with dropout rate: 0.55\n",
            "Epoch 1/10\n",
            "1875/1875 - 5s - loss: 0.1788 - accuracy: 0.9475 - val_loss: 0.2387 - val_accuracy: 0.9360 - 5s/epoch - 2ms/step\n",
            "Epoch 2/10\n",
            "1875/1875 - 3s - loss: 0.1785 - accuracy: 0.9476 - val_loss: 0.2377 - val_accuracy: 0.9342 - 3s/epoch - 2ms/step\n",
            "Epoch 3/10\n",
            "1875/1875 - 5s - loss: 0.1783 - accuracy: 0.9475 - val_loss: 0.2412 - val_accuracy: 0.9375 - 5s/epoch - 2ms/step\n",
            "Epoch 4/10\n",
            "1875/1875 - 4s - loss: 0.1775 - accuracy: 0.9480 - val_loss: 0.2398 - val_accuracy: 0.9376 - 4s/epoch - 2ms/step\n",
            "Epoch 5/10\n",
            "1875/1875 - 3s - loss: 0.1764 - accuracy: 0.9477 - val_loss: 0.2467 - val_accuracy: 0.9340 - 3s/epoch - 2ms/step\n",
            "Epoch 6/10\n",
            "1875/1875 - 5s - loss: 0.1760 - accuracy: 0.9478 - val_loss: 0.2414 - val_accuracy: 0.9340 - 5s/epoch - 2ms/step\n",
            "Epoch 7/10\n",
            "1875/1875 - 5s - loss: 0.1758 - accuracy: 0.9486 - val_loss: 0.2432 - val_accuracy: 0.9351 - 5s/epoch - 3ms/step\n",
            "Epoch 8/10\n",
            "1875/1875 - 4s - loss: 0.1757 - accuracy: 0.9484 - val_loss: 0.2418 - val_accuracy: 0.9362 - 4s/epoch - 2ms/step\n",
            "Epoch 9/10\n",
            "1875/1875 - 4s - loss: 0.1752 - accuracy: 0.9489 - val_loss: 0.2448 - val_accuracy: 0.9337 - 4s/epoch - 2ms/step\n",
            "Epoch 10/10\n",
            "1875/1875 - 5s - loss: 0.1749 - accuracy: 0.9489 - val_loss: 0.2392 - val_accuracy: 0.9356 - 5s/epoch - 3ms/step\n",
            "313/313 - 0s - loss: 0.2392 - accuracy: 0.9356 - 454ms/epoch - 1ms/step\n",
            "Test accuracy with dropout rate 0.55: 0.9355999827384949\n"
          ]
        }
      ],
      "source": [
        "# Define different dropout rates to experiment with\n",
        "dropout_rates = [0.4, 0.45, 0.55]\n",
        "\n",
        "# Loop through different dropout rates and train the models\n",
        "for rate in dropout_rates:\n",
        "    model.compile(optimizer=Adam(learning_rate=0.001),\n",
        "                  loss='sparse_categorical_crossentropy',\n",
        "                  metrics=['accuracy'])\n",
        "\n",
        "    print(f\"Training model with dropout rate: {rate}\")\n",
        "    history = model.fit(train_X, train_Y, epochs=10, validation_data=(test_X, test_Y), verbose=2)\n",
        "\n",
        "    # Evaluate the model\n",
        "    test_loss, test_acc = model.evaluate(test_X, test_Y, verbose=2)\n",
        "    print(f\"Test accuracy with dropout rate {rate}: {test_acc}\")\n"
      ]
    },
    {
      "cell_type": "markdown",
      "metadata": {
        "id": "3e5dnDc7iU7Q"
      },
      "source": [
        "**Task 3:** Modify your feed-forward neural network to include batch normalization layers after each hidden layer.  \n",
        "\n",
        "1.   Train the network using the same dataset and track its performance.\n",
        "2.   Compare the convergence speed and final accuracy/loss with and without batch normalization.\n",
        "\n",
        "\n"
      ]
    },
    {
      "cell_type": "code",
      "execution_count": null,
      "metadata": {
        "colab": {
          "base_uri": "https://localhost:8080/"
        },
        "id": "z2Yb6EATiqFx",
        "outputId": "5eaac799-426b-4041-ca85-8f932876aa42"
      },
      "outputs": [
        {
          "name": "stdout",
          "output_type": "stream",
          "text": [
            "Epoch 1/10\n",
            "1875/1875 - 12s - loss: 0.2486 - accuracy: 0.9251 - val_loss: 0.1287 - val_accuracy: 0.9597 - 12s/epoch - 7ms/step\n",
            "Epoch 2/10\n",
            "1875/1875 - 9s - loss: 0.1238 - accuracy: 0.9621 - val_loss: 0.0978 - val_accuracy: 0.9700 - 9s/epoch - 5ms/step\n",
            "Epoch 3/10\n",
            "1875/1875 - 9s - loss: 0.0961 - accuracy: 0.9701 - val_loss: 0.0892 - val_accuracy: 0.9733 - 9s/epoch - 5ms/step\n",
            "Epoch 4/10\n",
            "1875/1875 - 8s - loss: 0.0798 - accuracy: 0.9754 - val_loss: 0.0884 - val_accuracy: 0.9716 - 8s/epoch - 4ms/step\n",
            "Epoch 5/10\n",
            "1875/1875 - 9s - loss: 0.0679 - accuracy: 0.9780 - val_loss: 0.0790 - val_accuracy: 0.9763 - 9s/epoch - 5ms/step\n",
            "Epoch 6/10\n",
            "1875/1875 - 9s - loss: 0.0591 - accuracy: 0.9811 - val_loss: 0.0702 - val_accuracy: 0.9776 - 9s/epoch - 5ms/step\n",
            "Epoch 7/10\n",
            "1875/1875 - 9s - loss: 0.0509 - accuracy: 0.9833 - val_loss: 0.0655 - val_accuracy: 0.9784 - 9s/epoch - 5ms/step\n",
            "Epoch 8/10\n",
            "1875/1875 - 8s - loss: 0.0459 - accuracy: 0.9850 - val_loss: 0.0760 - val_accuracy: 0.9770 - 8s/epoch - 4ms/step\n",
            "Epoch 9/10\n",
            "1875/1875 - 10s - loss: 0.0426 - accuracy: 0.9856 - val_loss: 0.0703 - val_accuracy: 0.9809 - 10s/epoch - 5ms/step\n",
            "Epoch 10/10\n",
            "1875/1875 - 9s - loss: 0.0386 - accuracy: 0.9869 - val_loss: 0.0782 - val_accuracy: 0.9774 - 9s/epoch - 5ms/step\n",
            "313/313 - 1s - loss: 0.0782 - accuracy: 0.9774 - 530ms/epoch - 2ms/step\n",
            "Epoch 1/10\n",
            "1875/1875 - 4s - loss: 0.4342 - accuracy: 0.8787 - val_loss: 0.2602 - val_accuracy: 0.9278 - 4s/epoch - 2ms/step\n",
            "Epoch 2/10\n",
            "1875/1875 - 4s - loss: 0.2494 - accuracy: 0.9291 - val_loss: 0.2292 - val_accuracy: 0.9355 - 4s/epoch - 2ms/step\n",
            "Epoch 3/10\n",
            "1875/1875 - 4s - loss: 0.2147 - accuracy: 0.9388 - val_loss: 0.2084 - val_accuracy: 0.9385 - 4s/epoch - 2ms/step\n",
            "Epoch 4/10\n",
            "1875/1875 - 3s - loss: 0.1943 - accuracy: 0.9434 - val_loss: 0.1882 - val_accuracy: 0.9443 - 3s/epoch - 2ms/step\n",
            "Epoch 5/10\n",
            "1875/1875 - 4s - loss: 0.1793 - accuracy: 0.9477 - val_loss: 0.1803 - val_accuracy: 0.9445 - 4s/epoch - 2ms/step\n",
            "Epoch 6/10\n",
            "1875/1875 - 5s - loss: 0.1677 - accuracy: 0.9510 - val_loss: 0.1776 - val_accuracy: 0.9470 - 5s/epoch - 3ms/step\n",
            "Epoch 7/10\n",
            "1875/1875 - 4s - loss: 0.1590 - accuracy: 0.9532 - val_loss: 0.1726 - val_accuracy: 0.9478 - 4s/epoch - 2ms/step\n",
            "Epoch 8/10\n",
            "1875/1875 - 5s - loss: 0.1514 - accuracy: 0.9552 - val_loss: 0.1642 - val_accuracy: 0.9517 - 5s/epoch - 3ms/step\n",
            "Epoch 9/10\n",
            "1875/1875 - 4s - loss: 0.1465 - accuracy: 0.9565 - val_loss: 0.1600 - val_accuracy: 0.9523 - 4s/epoch - 2ms/step\n",
            "Epoch 10/10\n",
            "1875/1875 - 4s - loss: 0.1409 - accuracy: 0.9582 - val_loss: 0.1752 - val_accuracy: 0.9479 - 4s/epoch - 2ms/step\n",
            "313/313 - 0s - loss: 0.1752 - accuracy: 0.9479 - 426ms/epoch - 1ms/step\n",
            "With Batch Normalization:\n",
            "Test accuracy: 0.977400004863739\n",
            "Without Batch Normalization:\n",
            "Test accuracy: 0.9478999972343445\n"
          ]
        }
      ],
      "source": [
        "from tensorflow.keras.layers import Dense, BatchNormalization\n",
        "\n",
        "# Define the neural network architecture with batch normalization\n",
        "def build_model_with_batch_norm():\n",
        "    model = Sequential([\n",
        "        tf.keras.layers.Flatten(input_shape=(28, 28)),\n",
        "        tf.keras.layers.Dense(128, activation='relu'),\n",
        "        BatchNormalization(),  # Batch normalization layer\n",
        "        tf.keras.layers.Dense(64, activation='relu'),\n",
        "        BatchNormalization(),  # Batch normalization layer\n",
        "        tf.keras.layers.Dense(10, activation='softmax')\n",
        "    ])\n",
        "    return model\n",
        "\n",
        "# Define the neural network architecture without batch normalization\n",
        "def build_model_without_batch_norm():\n",
        "    model = Sequential([\n",
        "        tf.keras.layers.Flatten(input_shape=(28, 28)),\n",
        "        tf.keras.layers.Dense(16, activation='relu'),\n",
        "        tf.keras.layers.Dense(10, activation='softmax')\n",
        "    ])\n",
        "    return model\n",
        "\n",
        "# Compile and train the models\n",
        "def train_and_evaluate(model, train_X, train_Y, test_X, test_Y):\n",
        "    model.compile(optimizer=Adam(learning_rate=0.001),\n",
        "                  loss='sparse_categorical_crossentropy',\n",
        "                  metrics=['accuracy'])\n",
        "\n",
        "    history = model.fit(train_X, train_Y, epochs=10, validation_data=(test_X, test_Y), verbose=2)\n",
        "\n",
        "    # Evaluate the model\n",
        "    test_loss, test_acc = model.evaluate(test_X, test_Y, verbose=2)\n",
        "    return history, test_loss, test_acc\n",
        "\n",
        "# Train and evaluate models with and without batch normalization\n",
        "model_with_bn = build_model_with_batch_norm()\n",
        "history_with_bn, test_loss_with_bn, test_acc_with_bn = train_and_evaluate(model_with_bn, train_X, train_Y, test_X, test_Y)\n",
        "\n",
        "model_without_bn = build_model_without_batch_norm()\n",
        "history_without_bn, test_loss_without_bn, test_acc_without_bn = train_and_evaluate(model_without_bn, train_X, train_Y, test_X, test_Y)\n",
        "\n",
        "# Compare convergence speed and final accuracy/loss\n",
        "print(\"With Batch Normalization:\")\n",
        "print(f\"Test accuracy: {test_acc_with_bn}\")\n",
        "print(\"Without Batch Normalization:\")\n",
        "print(f\"Test accuracy: {test_acc_without_bn}\")\n"
      ]
    },
    {
      "cell_type": "markdown",
      "metadata": {
        "id": "VPS2KRCtsEOc"
      },
      "source": [
        "**Task 4:** Extend your neural network to include multiple activation functions.\n",
        "Implement the following activation functions in your model:  \n",
        "1.   Tanh\n",
        "2.   Sigmoid\n",
        "3.   ReLU (Rectified Linear Unit)\n",
        "4.   Softmax\n",
        "\n",
        "Experiment with different activation functions for different layers and document\n",
        "the impact on training"
      ]
    },
    {
      "cell_type": "code",
      "execution_count": null,
      "metadata": {
        "colab": {
          "base_uri": "https://localhost:8080/"
        },
        "id": "acnvFKT5kUCC",
        "outputId": "41f7f068-6904-4303-d50a-c8ded7721999"
      },
      "outputs": [
        {
          "name": "stdout",
          "output_type": "stream",
          "text": [
            "Training model with activation functions: tanh, tanh\n",
            "Epoch 1/5\n",
            "1875/1875 - 8s - loss: 0.2638 - accuracy: 0.9229 - val_loss: 0.1689 - val_accuracy: 0.9488 - 8s/epoch - 4ms/step\n",
            "Epoch 2/5\n",
            "1875/1875 - 6s - loss: 0.1205 - accuracy: 0.9646 - val_loss: 0.1030 - val_accuracy: 0.9672 - 6s/epoch - 3ms/step\n",
            "Epoch 3/5\n",
            "1875/1875 - 7s - loss: 0.0816 - accuracy: 0.9751 - val_loss: 0.0973 - val_accuracy: 0.9700 - 7s/epoch - 4ms/step\n",
            "Epoch 4/5\n",
            "1875/1875 - 6s - loss: 0.0595 - accuracy: 0.9814 - val_loss: 0.0973 - val_accuracy: 0.9680 - 6s/epoch - 3ms/step\n",
            "Epoch 5/5\n",
            "1875/1875 - 7s - loss: 0.0464 - accuracy: 0.9856 - val_loss: 0.0907 - val_accuracy: 0.9720 - 7s/epoch - 4ms/step\n",
            "\n",
            "\n",
            "Training model with activation functions: tanh, sigmoid\n",
            "Epoch 1/5\n",
            "1875/1875 - 8s - loss: 0.3329 - accuracy: 0.9119 - val_loss: 0.1553 - val_accuracy: 0.9547 - 8s/epoch - 4ms/step\n",
            "Epoch 2/5\n",
            "1875/1875 - 6s - loss: 0.1292 - accuracy: 0.9624 - val_loss: 0.1096 - val_accuracy: 0.9682 - 6s/epoch - 3ms/step\n",
            "Epoch 3/5\n",
            "1875/1875 - 7s - loss: 0.0845 - accuracy: 0.9750 - val_loss: 0.0853 - val_accuracy: 0.9747 - 7s/epoch - 4ms/step\n",
            "Epoch 4/5\n",
            "1875/1875 - 7s - loss: 0.0618 - accuracy: 0.9818 - val_loss: 0.0844 - val_accuracy: 0.9746 - 7s/epoch - 4ms/step\n",
            "Epoch 5/5\n",
            "1875/1875 - 7s - loss: 0.0455 - accuracy: 0.9868 - val_loss: 0.0798 - val_accuracy: 0.9739 - 7s/epoch - 3ms/step\n",
            "\n",
            "\n",
            "Training model with activation functions: tanh, relu\n",
            "Epoch 1/5\n",
            "1875/1875 - 8s - loss: 0.2498 - accuracy: 0.9264 - val_loss: 0.1377 - val_accuracy: 0.9578 - 8s/epoch - 4ms/step\n",
            "Epoch 2/5\n",
            "1875/1875 - 6s - loss: 0.1107 - accuracy: 0.9657 - val_loss: 0.0988 - val_accuracy: 0.9683 - 6s/epoch - 3ms/step\n",
            "Epoch 3/5\n",
            "1875/1875 - 7s - loss: 0.0746 - accuracy: 0.9765 - val_loss: 0.0965 - val_accuracy: 0.9696 - 7s/epoch - 4ms/step\n",
            "Epoch 4/5\n",
            "1875/1875 - 6s - loss: 0.0568 - accuracy: 0.9825 - val_loss: 0.0801 - val_accuracy: 0.9758 - 6s/epoch - 3ms/step\n",
            "Epoch 5/5\n",
            "1875/1875 - 7s - loss: 0.0417 - accuracy: 0.9867 - val_loss: 0.0779 - val_accuracy: 0.9760 - 7s/epoch - 4ms/step\n",
            "\n",
            "\n",
            "Training model with activation functions: sigmoid, tanh\n",
            "Epoch 1/5\n",
            "1875/1875 - 8s - loss: 0.3419 - accuracy: 0.9029 - val_loss: 0.1957 - val_accuracy: 0.9415 - 8s/epoch - 4ms/step\n",
            "Epoch 2/5\n",
            "1875/1875 - 8s - loss: 0.1561 - accuracy: 0.9541 - val_loss: 0.1302 - val_accuracy: 0.9619 - 8s/epoch - 4ms/step\n",
            "Epoch 3/5\n",
            "1875/1875 - 6s - loss: 0.1056 - accuracy: 0.9682 - val_loss: 0.1026 - val_accuracy: 0.9671 - 6s/epoch - 3ms/step\n",
            "Epoch 4/5\n",
            "1875/1875 - 7s - loss: 0.0768 - accuracy: 0.9763 - val_loss: 0.0941 - val_accuracy: 0.9697 - 7s/epoch - 4ms/step\n",
            "Epoch 5/5\n",
            "1875/1875 - 6s - loss: 0.0582 - accuracy: 0.9823 - val_loss: 0.0759 - val_accuracy: 0.9770 - 6s/epoch - 3ms/step\n",
            "\n",
            "\n",
            "Training model with activation functions: sigmoid, sigmoid\n",
            "Epoch 1/5\n",
            "1875/1875 - 8s - loss: 0.4662 - accuracy: 0.8832 - val_loss: 0.2118 - val_accuracy: 0.9372 - 8s/epoch - 4ms/step\n",
            "Epoch 2/5\n",
            "1875/1875 - 6s - loss: 0.1786 - accuracy: 0.9470 - val_loss: 0.1465 - val_accuracy: 0.9578 - 6s/epoch - 3ms/step\n",
            "Epoch 3/5\n",
            "1875/1875 - 7s - loss: 0.1239 - accuracy: 0.9637 - val_loss: 0.1119 - val_accuracy: 0.9674 - 7s/epoch - 4ms/step\n",
            "Epoch 4/5\n",
            "1875/1875 - 6s - loss: 0.0929 - accuracy: 0.9724 - val_loss: 0.1012 - val_accuracy: 0.9689 - 6s/epoch - 3ms/step\n",
            "Epoch 5/5\n",
            "1875/1875 - 7s - loss: 0.0716 - accuracy: 0.9784 - val_loss: 0.0914 - val_accuracy: 0.9743 - 7s/epoch - 4ms/step\n",
            "\n",
            "\n",
            "Training model with activation functions: sigmoid, relu\n",
            "Epoch 1/5\n",
            "1875/1875 - 8s - loss: 0.3586 - accuracy: 0.8990 - val_loss: 0.1950 - val_accuracy: 0.9420 - 8s/epoch - 4ms/step\n",
            "Epoch 2/5\n",
            "1875/1875 - 6s - loss: 0.1634 - accuracy: 0.9516 - val_loss: 0.1264 - val_accuracy: 0.9608 - 6s/epoch - 3ms/step\n",
            "Epoch 3/5\n",
            "1875/1875 - 7s - loss: 0.1112 - accuracy: 0.9657 - val_loss: 0.0996 - val_accuracy: 0.9694 - 7s/epoch - 4ms/step\n",
            "Epoch 4/5\n",
            "1875/1875 - 6s - loss: 0.0819 - accuracy: 0.9747 - val_loss: 0.0850 - val_accuracy: 0.9744 - 6s/epoch - 3ms/step\n",
            "Epoch 5/5\n",
            "1875/1875 - 7s - loss: 0.0635 - accuracy: 0.9796 - val_loss: 0.0814 - val_accuracy: 0.9752 - 7s/epoch - 4ms/step\n",
            "\n",
            "\n",
            "Training model with activation functions: relu, tanh\n",
            "Epoch 1/5\n",
            "1875/1875 - 10s - loss: 0.2256 - accuracy: 0.9344 - val_loss: 0.1073 - val_accuracy: 0.9667 - 10s/epoch - 6ms/step\n",
            "Epoch 2/5\n",
            "1875/1875 - 7s - loss: 0.0917 - accuracy: 0.9721 - val_loss: 0.1030 - val_accuracy: 0.9659 - 7s/epoch - 4ms/step\n",
            "Epoch 3/5\n",
            "1875/1875 - 6s - loss: 0.0633 - accuracy: 0.9805 - val_loss: 0.0858 - val_accuracy: 0.9735 - 6s/epoch - 3ms/step\n",
            "Epoch 4/5\n",
            "1875/1875 - 7s - loss: 0.0479 - accuracy: 0.9851 - val_loss: 0.0760 - val_accuracy: 0.9771 - 7s/epoch - 4ms/step\n",
            "Epoch 5/5\n",
            "1875/1875 - 6s - loss: 0.0382 - accuracy: 0.9881 - val_loss: 0.0852 - val_accuracy: 0.9753 - 6s/epoch - 3ms/step\n",
            "\n",
            "\n",
            "Training model with activation functions: relu, sigmoid\n",
            "Epoch 1/5\n",
            "1875/1875 - 7s - loss: 0.3169 - accuracy: 0.9164 - val_loss: 0.1410 - val_accuracy: 0.9585 - 7s/epoch - 4ms/step\n",
            "Epoch 2/5\n",
            "1875/1875 - 7s - loss: 0.1167 - accuracy: 0.9650 - val_loss: 0.1003 - val_accuracy: 0.9695 - 7s/epoch - 4ms/step\n",
            "Epoch 3/5\n",
            "1875/1875 - 6s - loss: 0.0765 - accuracy: 0.9768 - val_loss: 0.0859 - val_accuracy: 0.9725 - 6s/epoch - 3ms/step\n",
            "Epoch 4/5\n",
            "1875/1875 - 7s - loss: 0.0566 - accuracy: 0.9829 - val_loss: 0.0739 - val_accuracy: 0.9776 - 7s/epoch - 4ms/step\n",
            "Epoch 5/5\n",
            "1875/1875 - 6s - loss: 0.0443 - accuracy: 0.9865 - val_loss: 0.0782 - val_accuracy: 0.9761 - 6s/epoch - 3ms/step\n",
            "\n",
            "\n",
            "Training model with activation functions: relu, relu\n",
            "Epoch 1/5\n",
            "1875/1875 - 8s - loss: 0.2394 - accuracy: 0.9288 - val_loss: 0.1214 - val_accuracy: 0.9610 - 8s/epoch - 4ms/step\n",
            "Epoch 2/5\n",
            "1875/1875 - 6s - loss: 0.1016 - accuracy: 0.9694 - val_loss: 0.0920 - val_accuracy: 0.9709 - 6s/epoch - 3ms/step\n",
            "Epoch 3/5\n",
            "1875/1875 - 7s - loss: 0.0723 - accuracy: 0.9769 - val_loss: 0.0873 - val_accuracy: 0.9736 - 7s/epoch - 4ms/step\n",
            "Epoch 4/5\n",
            "1875/1875 - 6s - loss: 0.0535 - accuracy: 0.9837 - val_loss: 0.0876 - val_accuracy: 0.9756 - 6s/epoch - 3ms/step\n",
            "Epoch 5/5\n",
            "1875/1875 - 7s - loss: 0.0437 - accuracy: 0.9856 - val_loss: 0.0855 - val_accuracy: 0.9749 - 7s/epoch - 4ms/step\n",
            "\n",
            "\n"
          ]
        }
      ],
      "source": [
        "import tensorflow as tf\n",
        "from tensorflow.keras.datasets import mnist\n",
        "from tensorflow.keras.models import Sequential\n",
        "from tensorflow.keras.layers import Dense\n",
        "from tensorflow.keras.activations import tanh, sigmoid, relu, softmax\n",
        "from tensorflow.keras.utils import to_categorical\n",
        "\n",
        "# Load and preprocess the MNIST dataset\n",
        "(x_train, y_train), (x_test, y_test) = mnist.load_data()\n",
        "x_train, x_test = x_train / 255.0, x_test / 255.0\n",
        "y_train = to_categorical(y_train, num_classes=10)\n",
        "y_test = to_categorical(y_test, num_classes=10)\n",
        "\n",
        "# Define a function to create a model with different activation functions\n",
        "def create_model(activation_1, activation_2):\n",
        "    model = Sequential([\n",
        "        tf.keras.layers.Flatten(input_shape=(28, 28)),\n",
        "        Dense(128, activation=activation_1),\n",
        "        Dense(64, activation=activation_2),\n",
        "        Dense(10, activation=softmax)\n",
        "    ])\n",
        "    return model\n",
        "\n",
        "# Define different activation functions to experiment with\n",
        "activation_functions = [tanh, sigmoid, relu]\n",
        "\n",
        "# Experiment with different combinations of activation functions\n",
        "for activation_1 in activation_functions:\n",
        "    for activation_2 in activation_functions:\n",
        "        model = create_model(activation_1, activation_2)\n",
        "        model.compile(optimizer='adam', loss='categorical_crossentropy', metrics=['accuracy'])\n",
        "\n",
        "        print(f\"Training model with activation functions: {activation_1.__name__}, {activation_2.__name__}\")\n",
        "        history = model.fit(x_train, y_train, epochs=5, validation_data=(x_test, y_test), verbose=2)\n",
        "        print(\"\\n\")"
      ]
    }
  ],
  "metadata": {
    "colab": {
      "provenance": []
    },
    "kernelspec": {
      "display_name": "Python 3",
      "name": "python3"
    },
    "language_info": {
      "name": "python"
    }
  },
  "nbformat": 4,
  "nbformat_minor": 0
}
